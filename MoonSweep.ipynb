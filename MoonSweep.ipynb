{
 "cells": [
  {
   "cell_type": "markdown",
   "metadata": {},
   "source": [
    "# Sweep laser pointer across the Moon from Earth\n",
    "\n",
    "Plan: \n",
    "Use SymPy to:\n",
    "1. Derive formula for distance Earth - Moon surface as a function of the sweep angle from Earth perspective\n",
    "2. Derive formula for the arrival time as a function of the sweep angle under consideration of the sweep angular speed\n",
    "\n",
    "Plot the following:\n",
    "- Arrival time vs sweep angle\n",
    "- Moon surface location vs sweep angle\n",
    "...\n"
   ]
  },
  {
   "cell_type": "code",
   "execution_count": 36,
   "metadata": {},
   "outputs": [],
   "source": [
    "import sympy\n",
    "from sympy import *\n",
    "\n",
    "# Constants\n",
    "#x, y, s, sq = symbols('x y s sq', positive=True) #, real=True)\n",
    "\n",
    "c = symbols('c', positive=True ) # speed of light in vacuum\n",
    "R = symbols('R', positive=True ) # radius of the Moon (target sphere)\n",
    "D = symbols('D', positive=True ) # Distance Earth to Moon center\n",
    "alpha = symbols('alpha')         # Angle of laser pointer direction\n",
    "L = symbols('L', positive=True ) # Flight path length (distance Earth - Moon surface point)\n",
    "a, b = symbols('a b', positive=True ) # y and x coordinates of Moon surface point\n"
   ]
  },
  {
   "cell_type": "code",
   "execution_count": 37,
   "metadata": {},
   "outputs": [
    {
     "name": "stdout",
     "output_type": "stream",
     "text": [
      "(D*cos(alpha) - sqrt(-D**2*sin(alpha)**2 + R**2), (D*cos(alpha) - sqrt(-D**2*sin(alpha)**2 + R**2))*sin(alpha), D*sin(alpha)**2 + sqrt(-D**2*sin(alpha)**2 + R**2)*cos(alpha))\n",
      "(D*cos(alpha) + sqrt(-D**2*sin(alpha)**2 + R**2), (D*cos(alpha) + sqrt(-D**2*sin(alpha)**2 + R**2))*sin(alpha), D*sin(alpha)**2 - sqrt(-D**2*sin(alpha)**2 + R**2)*cos(alpha))\n"
     ]
    }
   ],
   "source": [
    "\n",
    "geometry = solve([a*a + b*b - R*R, a - L*sin(alpha), D - b - L*cos(alpha)], L, a, b)\n",
    "print( geometry[0] )\n",
    "print( geometry[1] )\n",
    "# select the relevant solution (must be less than D) \n",
    "pathLength = Lambda(alpha, geometry[0][0])  # define as function of alpha\n",
    "surfacePointVertical = geometry[0][1]\n",
    "surfacePointHorizontal = geometry[0][2]\n",
    "#print(pathLength, surfacePointVertical, surfacePointHorizontal)\n"
   ]
  },
  {
   "cell_type": "code",
   "execution_count": 38,
   "metadata": {},
   "outputs": [
    {
     "data": {
      "text/latex": [
       "$\\displaystyle \\left( \\alpha \\mapsto D \\cos{\\left(\\alpha \\right)} - \\sqrt{- D^{2} \\sin^{2}{\\left(\\alpha \\right)} + R^{2}} \\right)$"
      ],
      "text/plain": [
       "Lambda(alpha, D*cos(alpha) - sqrt(-D**2*sin(alpha)**2 + R**2))"
      ]
     },
     "execution_count": 38,
     "metadata": {},
     "output_type": "execute_result"
    }
   ],
   "source": [
    "pathLength"
   ]
  },
  {
   "cell_type": "code",
   "execution_count": 39,
   "metadata": {},
   "outputs": [
    {
     "data": {
      "text/latex": [
       "$\\displaystyle D \\sin^{2}{\\left(\\alpha \\right)} + \\sqrt{- D^{2} \\sin^{2}{\\left(\\alpha \\right)} + R^{2}} \\cos{\\left(\\alpha \\right)}$"
      ],
      "text/plain": [
       "D*sin(alpha)**2 + sqrt(-D**2*sin(alpha)**2 + R**2)*cos(alpha)"
      ]
     },
     "execution_count": 39,
     "metadata": {},
     "output_type": "execute_result"
    }
   ],
   "source": [
    "surfacePointHorizontal"
   ]
  },
  {
   "cell_type": "code",
   "execution_count": 40,
   "metadata": {},
   "outputs": [
    {
     "data": {
      "text/latex": [
       "$\\displaystyle \\left(D \\cos{\\left(\\alpha \\right)} - \\sqrt{- D^{2} \\sin^{2}{\\left(\\alpha \\right)} + R^{2}}\\right) \\sin{\\left(\\alpha \\right)}$"
      ],
      "text/plain": [
       "(D*cos(alpha) - sqrt(-D**2*sin(alpha)**2 + R**2))*sin(alpha)"
      ]
     },
     "execution_count": 40,
     "metadata": {},
     "output_type": "execute_result"
    }
   ],
   "source": [
    "surfacePointVertical"
   ]
  },
  {
   "cell_type": "code",
   "execution_count": 41,
   "metadata": {},
   "outputs": [
    {
     "data": {
      "text/latex": [
       "$\\displaystyle \\operatorname{asin}{\\left(\\frac{\\left(D \\cos{\\left(\\alpha \\right)} - \\sqrt{- D^{2} \\sin^{2}{\\left(\\alpha \\right)} + R^{2}}\\right) \\sin{\\left(\\alpha \\right)}}{R} \\right)}$"
      ],
      "text/plain": [
       "asin((D*cos(alpha) - sqrt(-D**2*sin(alpha)**2 + R**2))*sin(alpha)/R)"
      ]
     },
     "execution_count": 41,
     "metadata": {},
     "output_type": "execute_result"
    }
   ],
   "source": [
    "# Angle of the surface point\n",
    "beta = asin(surfacePointVertical/R)\n",
    "beta"
   ]
  },
  {
   "cell_type": "code",
   "execution_count": 42,
   "metadata": {},
   "outputs": [],
   "source": [
    "# Minimum and maximum ray distances\n",
    "L_min = D - R\n",
    "L_max = sqrt(D*D - R*R)"
   ]
  },
  {
   "cell_type": "code",
   "execution_count": 43,
   "metadata": {},
   "outputs": [],
   "source": [
    "# Maximum angle of Moon (full moon appears with angular diameter 2 * alpha_max)\n",
    "alpha_max = asin(L_max/R)"
   ]
  },
  {
   "cell_type": "code",
   "execution_count": 44,
   "metadata": {},
   "outputs": [
    {
     "data": {
      "text/latex": [
       "$\\displaystyle \\left( \\alpha \\mapsto \\operatorname{asin}{\\left(\\frac{\\left(D \\cos{\\left(\\alpha \\right)} - \\sqrt{- D^{2} \\sin^{2}{\\left(\\alpha \\right)} + R^{2}}\\right) \\sin{\\left(\\alpha \\right)}}{R} \\right)} \\right)$"
      ],
      "text/plain": [
       "Lambda(alpha, asin((D*cos(alpha) - sqrt(-D**2*sin(alpha)**2 + R**2))*sin(alpha)/R))"
      ]
     },
     "execution_count": 44,
     "metadata": {},
     "output_type": "execute_result"
    }
   ],
   "source": [
    "# Define a function for the surface angle beta with argument alpha\n",
    "surfaceAngle = Lambda(alpha, beta)\n",
    "surfaceAngle"
   ]
  }
 ],
 "metadata": {
  "kernelspec": {
   "display_name": "Python 3",
   "language": "python",
   "name": "python3"
  },
  "language_info": {
   "codemirror_mode": {
    "name": "ipython",
    "version": 3
   },
   "file_extension": ".py",
   "mimetype": "text/x-python",
   "name": "python",
   "nbconvert_exporter": "python",
   "pygments_lexer": "ipython3",
   "version": "3.12.7"
  }
 },
 "nbformat": 4,
 "nbformat_minor": 2
}
