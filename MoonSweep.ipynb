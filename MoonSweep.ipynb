{
 "cells": [
  {
   "cell_type": "markdown",
   "metadata": {},
   "source": [
    "# Sweep laser pointer across the Moon from Earth\n",
    "\n",
    "Plan: \n",
    "Use SymPy to:\n",
    "1. Derive formula for distance Earth - Moon surface as a function of the sweep angle from Earth perspective\n",
    "2. Derive formula for the arrival time as a function of the sweep angle under consideration of the sweep angular speed\n",
    "\n",
    "Plot the following:\n",
    "- Arrival time vs sweep angle\n",
    "- Moon surface location vs sweep angle\n",
    "...\n"
   ]
  },
  {
   "cell_type": "code",
   "execution_count": 1,
   "metadata": {},
   "outputs": [],
   "source": [
    "import sympy\n",
    "from sympy import *\n",
    "\n",
    "# Parameters for the calculations\n",
    "\n",
    "c = symbols('c', positive=True ) # Speed of light in vacuum\n",
    "R = symbols('R', positive=True ) # Radius of the Moon (target sphere)\n",
    "D = symbols('D', positive=True ) # Distance Earth to Moon center\n",
    "alpha = symbols('alpha')         # Angle of laser pointer direction\n",
    "omega = symbols('omega')         # Angular velocity of laser pointer movement\n",
    "T = symbols('T')                 # Sweep duration\n",
    "L = symbols('L', positive=True ) # Flight path length (distance Earth - Moon surface point)\n",
    "a, b = symbols('a b')            # coordinates of Moon surface point\n",
    "t = symbols('t')                 # time in seconds\n"
   ]
  },
  {
   "cell_type": "code",
   "execution_count": 2,
   "metadata": {},
   "outputs": [
    {
     "name": "stdout",
     "output_type": "stream",
     "text": [
      "(D*cos(alpha) - sqrt(-D**2*sin(alpha)**2 + R**2), (D*cos(alpha) - sqrt(-D**2*sin(alpha)**2 + R**2))*sin(alpha), D*sin(alpha)**2 + sqrt(-D**2*sin(alpha)**2 + R**2)*cos(alpha))\n",
      "(D*cos(alpha) + sqrt(-D**2*sin(alpha)**2 + R**2), (D*cos(alpha) + sqrt(-D**2*sin(alpha)**2 + R**2))*sin(alpha), D*sin(alpha)**2 - sqrt(-D**2*sin(alpha)**2 + R**2)*cos(alpha))\n"
     ]
    }
   ],
   "source": [
    "\n",
    "geometry = solve([a*a + b*b - R*R, a - L*sin(alpha), D - b - L*cos(alpha)], L, a, b)\n",
    "print( geometry[0] )\n",
    "print( geometry[1] )\n",
    "# select the relevant solution (must be less than D) \n",
    "pathLength = Lambda(alpha, geometry[0][0])  # define as function of alpha\n",
    "surfacePointVertical = geometry[0][1]\n",
    "surfacePointHorizontal = geometry[0][2]\n",
    "#print(pathLength, surfacePointVertical, surfacePointHorizontal)\n"
   ]
  },
  {
   "cell_type": "code",
   "execution_count": 3,
   "metadata": {},
   "outputs": [
    {
     "data": {
      "text/latex": [
       "$\\displaystyle \\left( \\alpha \\mapsto D \\cos{\\left(\\alpha \\right)} - \\sqrt{- D^{2} \\sin^{2}{\\left(\\alpha \\right)} + R^{2}} \\right)$"
      ],
      "text/plain": [
       "Lambda(alpha, D*cos(alpha) - sqrt(-D**2*sin(alpha)**2 + R**2))"
      ]
     },
     "execution_count": 3,
     "metadata": {},
     "output_type": "execute_result"
    }
   ],
   "source": [
    "pathLength"
   ]
  },
  {
   "cell_type": "code",
   "execution_count": 4,
   "metadata": {},
   "outputs": [
    {
     "data": {
      "text/latex": [
       "$\\displaystyle D \\sin^{2}{\\left(\\alpha \\right)} + \\sqrt{- D^{2} \\sin^{2}{\\left(\\alpha \\right)} + R^{2}} \\cos{\\left(\\alpha \\right)}$"
      ],
      "text/plain": [
       "D*sin(alpha)**2 + sqrt(-D**2*sin(alpha)**2 + R**2)*cos(alpha)"
      ]
     },
     "execution_count": 4,
     "metadata": {},
     "output_type": "execute_result"
    }
   ],
   "source": [
    "surfacePointHorizontal"
   ]
  },
  {
   "cell_type": "code",
   "execution_count": 5,
   "metadata": {},
   "outputs": [
    {
     "data": {
      "text/latex": [
       "$\\displaystyle \\left(D \\cos{\\left(\\alpha \\right)} - \\sqrt{- D^{2} \\sin^{2}{\\left(\\alpha \\right)} + R^{2}}\\right) \\sin{\\left(\\alpha \\right)}$"
      ],
      "text/plain": [
       "(D*cos(alpha) - sqrt(-D**2*sin(alpha)**2 + R**2))*sin(alpha)"
      ]
     },
     "execution_count": 5,
     "metadata": {},
     "output_type": "execute_result"
    }
   ],
   "source": [
    "surfacePointVertical"
   ]
  },
  {
   "cell_type": "code",
   "execution_count": 6,
   "metadata": {},
   "outputs": [
    {
     "data": {
      "text/latex": [
       "$\\displaystyle \\operatorname{asin}{\\left(\\frac{\\left(D \\cos{\\left(\\alpha \\right)} - \\sqrt{- D^{2} \\sin^{2}{\\left(\\alpha \\right)} + R^{2}}\\right) \\sin{\\left(\\alpha \\right)}}{R} \\right)}$"
      ],
      "text/plain": [
       "asin((D*cos(alpha) - sqrt(-D**2*sin(alpha)**2 + R**2))*sin(alpha)/R)"
      ]
     },
     "execution_count": 6,
     "metadata": {},
     "output_type": "execute_result"
    }
   ],
   "source": [
    "# Angle of the surface point\n",
    "beta = asin(surfacePointVertical/R)\n",
    "beta"
   ]
  },
  {
   "cell_type": "code",
   "execution_count": 7,
   "metadata": {},
   "outputs": [],
   "source": [
    "# Minimum and maximum ray distances\n",
    "L_min = D - R\n",
    "L_max = sqrt(D*D - R*R)"
   ]
  },
  {
   "cell_type": "code",
   "execution_count": 8,
   "metadata": {},
   "outputs": [],
   "source": [
    "# Maximum/Minimum angle of Moon (full moon appears with angular diameter 2 * alpha_max)\n",
    "alpha_max = asin(R/D)\n",
    "alphaStart = alpha_max\n",
    "alphaEnd = -alpha_max"
   ]
  },
  {
   "cell_type": "code",
   "execution_count": 9,
   "metadata": {},
   "outputs": [
    {
     "data": {
      "text/latex": [
       "$\\displaystyle \\left( \\alpha \\mapsto \\operatorname{asin}{\\left(\\frac{\\left(D \\cos{\\left(\\alpha \\right)} - \\sqrt{- D^{2} \\sin^{2}{\\left(\\alpha \\right)} + R^{2}}\\right) \\sin{\\left(\\alpha \\right)}}{R} \\right)} \\right)$"
      ],
      "text/plain": [
       "Lambda(alpha, asin((D*cos(alpha) - sqrt(-D**2*sin(alpha)**2 + R**2))*sin(alpha)/R))"
      ]
     },
     "execution_count": 9,
     "metadata": {},
     "output_type": "execute_result"
    }
   ],
   "source": [
    "# Define a function for the surface angle beta with argument alpha\n",
    "surfaceAngle = Lambda(alpha, beta)\n",
    "surfaceAngle"
   ]
  },
  {
   "cell_type": "code",
   "execution_count": 10,
   "metadata": {},
   "outputs": [
    {
     "data": {
      "text/latex": [
       "$\\displaystyle \\left( t \\mapsto \\omega t + \\operatorname{asin}{\\left(\\frac{R}{D} \\right)} \\right)$"
      ],
      "text/plain": [
       "Lambda(t, omega*t + asin(R/D))"
      ]
     },
     "execution_count": 10,
     "metadata": {},
     "output_type": "execute_result"
    }
   ],
   "source": [
    "# Sweep dynamics\n",
    "# Assumption: t = 0 is start of sweep\n",
    "sweepAngle = Lambda(t, alphaStart + omega*t)   # Sweep angle as a function of time (sweep from alpha_max to -alpha_max)\n",
    "sweepAngle"
   ]
  },
  {
   "cell_type": "code",
   "execution_count": 11,
   "metadata": {},
   "outputs": [],
   "source": [
    "# Ray arrival time as function of time\n",
    "arrivalTime = Lambda(t, t + pathLength(sweepAngle(t))/c)"
   ]
  },
  {
   "cell_type": "code",
   "execution_count": null,
   "metadata": {},
   "outputs": [],
   "source": []
  },
  {
   "cell_type": "code",
   "execution_count": 12,
   "metadata": {},
   "outputs": [],
   "source": [
    "# Values for Earth - Moon system\n",
    "speedOfLight = 300000.0      # speed of light in vacuum (km/s)\n",
    "distanceEarthMoon = 382500.0 # distance Earth - Moon (average) (km)\n",
    "moonRadius = 1737.5          # Moon radius (km)"
   ]
  },
  {
   "cell_type": "code",
   "execution_count": 13,
   "metadata": {},
   "outputs": [
    {
     "data": {
      "text/latex": [
       "$\\displaystyle \\left( \\alpha \\mapsto \\operatorname{asin}{\\left(0.000575539568345324 \\left(- 382500.0 \\sqrt{2.06341578025546 \\cdot 10^{-5} - \\sin^{2}{\\left(\\alpha \\right)}} + 382500.0 \\cos{\\left(\\alpha \\right)}\\right) \\sin{\\left(\\alpha \\right)} \\right)} \\right)$"
      ],
      "text/plain": [
       "Lambda(alpha, asin(0.000575539568345324*(-382500.0*sqrt(2.06341578025546e-5 - sin(alpha)**2) + 382500.0*cos(alpha))*sin(alpha)))"
      ]
     },
     "execution_count": 13,
     "metadata": {},
     "output_type": "execute_result"
    }
   ],
   "source": [
    "# Replace variables with values for Earth - Moon system\n",
    "surfaceAngleMoon = surfaceAngle.subs([(D, distanceEarthMoon), (R, moonRadius)])\n",
    "surfaceAngleMoon"
   ]
  },
  {
   "cell_type": "code",
   "execution_count": null,
   "metadata": {},
   "outputs": [
    {
     "name": "stdout",
     "output_type": "stream",
     "text": [
      "0.00454249928199655 -0.00454249928199655\n"
     ]
    },
    {
     "data": {
      "image/png": "[encoded data removed]",
      "text/plain": [
       "<Figure size 640x480 with 1 Axes>"
      ]
     },
     "metadata": {},
     "output_type": "display_data"
    },
    {
     "data": {
      "text/plain": [
       "<sympy.plotting.backends.matplotlibbackend.matplotlib.MatplotlibBackend at 0x1231e9760>"
      ]
     },
     "execution_count": 16,
     "metadata": {},
     "output_type": "execute_result"
    }
   ],
   "source": [
    "# \n",
    "alphaStartMoon = alphaStart.subs([(D, distanceEarthMoon), (R, moonRadius)])\n",
    "alphaEndMoon = alphaEnd.subs([(D, distanceEarthMoon), (R, moonRadius)])\n",
    "print(alphaStartMoon, alphaEndMoon)\n",
    "plot(surfaceAngleMoon(alpha), (alpha, alphaStartMoon, alphaEndMoon))"
   ]
  },
  {
   "cell_type": "code",
   "execution_count": null,
   "metadata": {},
   "outputs": [],
   "source": [
    "#\n",
    "pathLengthMoon = pathLength.subs([(D, distanceEarthMoon), (R, moonRadius)])\n",
    "pathLengthMoon\n",
    "\n",
    "plot(pathLengthMoon(alpha), (alpha, alphaStartMoon, alphaEndMoon))"
   ]
  },
  {
   "cell_type": "code",
   "execution_count": null,
   "metadata": {},
   "outputs": [],
   "source": [
    "# Sweep dynamics\n",
    "angularSpeed = (alphaEnd - alphaStart) / T             # Sweep angular speed in rad/sec\n",
    "arrivalTime = Lambda(t, t + pathLength(sweepAngle(t))/c) # Arrival time at moon service as function of time\n",
    "arrivalTime"
   ]
  },
  {
   "cell_type": "code",
   "execution_count": null,
   "metadata": {},
   "outputs": [],
   "source": [
    "arrivalTime(0)"
   ]
  },
  {
   "cell_type": "code",
   "execution_count": 41,
   "metadata": {},
   "outputs": [],
   "source": [
    "# solve(arrivalTime(t) - arrivalTime(0),t)\n",
    "# no analytical solution"
   ]
  },
  {
   "cell_type": "code",
   "execution_count": null,
   "metadata": {},
   "outputs": [],
   "source": [
    "# Arrival time for Earth - Moon system:\n",
    "sweepDuration = 0.01          # Sweep duration in seconds\n",
    "angularSpeedMoon = angularSpeed.subs([(D, distanceEarthMoon), (R, moonRadius), (T, sweepDuration)])\n",
    "arrivalTimeMoon = arrivalTime.subs([(D, distanceEarthMoon), (R, moonRadius), (c, speedOfLight), (omega, angularSpeedMoon)])\n",
    "\n",
    "maxDupTime = re(nsolve(arrivalTimeMoon(t) - arrivalTimeMoon(0), 1)) #without re() it may return a tiny imaginary part\n",
    "print( maxDupTime )\n",
    "\n",
    "plot(arrivalTimeMoon(t), (t, 0, maxDupTime*1.1))\n",
    "#plot(arrivalTimeMoon(t), (t, 0, sweepDuration/7000))"
   ]
  }
 ],
 "metadata": {
  "kernelspec": {
   "display_name": "Python 3",
   "language": "python",
   "name": "python3"
  },
  "language_info": {
   "codemirror_mode": {
    "name": "ipython",
    "version": 3
   },
   "file_extension": ".py",
   "mimetype": "text/x-python",
   "name": "python",
   "nbconvert_exporter": "python",
   "pygments_lexer": "ipython3",
   "version": "3.12.7"
  }
 },
 "nbformat": 4,
 "nbformat_minor": 2
}
