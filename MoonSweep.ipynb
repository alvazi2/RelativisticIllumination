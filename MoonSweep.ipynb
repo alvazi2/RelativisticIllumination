{
 "cells": [
  {
   "cell_type": "markdown",
   "metadata": {},
   "source": [
    "# Sweep laser pointer across the Moon from Earth\n",
    "\n",
    "Plan: \n",
    "Use SymPy to:\n",
    "1. Derive formula for distance Earth - Moon surface as a function of the sweep angle from Earth perspective\n",
    "2. Derive formula for the arrival time as a function of the sweep angle under consideration of the sweep angular speed\n",
    "\n",
    "Plot the following:\n",
    "- Arrival time vs sweep angle\n",
    "- Moon surface location vs sweep angle\n",
    "...\n"
   ]
  },
  {
   "cell_type": "code",
   "execution_count": 1,
   "metadata": {},
   "outputs": [],
   "source": [
    "import sympy\n",
    "from sympy import *\n",
    "\n",
    "# Constants\n",
    "#x, y, s, sq = symbols('x y s sq', positive=True) #, real=True)\n",
    "\n",
    "c = symbols('c', positive=True ) # speed of light in vacuum\n",
    "R = symbols('R', positive=True ) # radius of the Moon (target sphere)\n",
    "D = symbols('D', positive=True ) # Distance Earth to Moon center\n",
    "alpha = symbols('alpha')         # Angle of laser pointer direction\n",
    "L = symbols('L', positive=True ) # Flight path length (distance Earth - Moon surface point)\n",
    "a, b = symbols('a b', positive=True ) # y and x coordinates of Moon surface point\n"
   ]
  },
  {
   "cell_type": "code",
   "execution_count": 20,
   "metadata": {},
   "outputs": [
    {
     "name": "stdout",
     "output_type": "stream",
     "text": [
      "(D*cos(alpha) - sqrt(-D**2*sin(alpha)**2 + R**2), (D*cos(alpha) - sqrt(-D**2*sin(alpha)**2 + R**2))*sin(alpha), D*sin(alpha)**2 + sqrt(-D**2*sin(alpha)**2 + R**2)*cos(alpha))\n",
      "(D*cos(alpha) + sqrt(-D**2*sin(alpha)**2 + R**2), (D*cos(alpha) + sqrt(-D**2*sin(alpha)**2 + R**2))*sin(alpha), D*sin(alpha)**2 - sqrt(-D**2*sin(alpha)**2 + R**2)*cos(alpha))\n"
     ]
    },
    {
     "data": {
      "text/latex": [
       "$\\displaystyle D \\cos{\\left(\\alpha \\right)} - \\sqrt{- D^{2} \\sin^{2}{\\left(\\alpha \\right)} + R^{2}}$"
      ],
      "text/plain": [
       "D*cos(alpha) - sqrt(-D**2*sin(alpha)**2 + R**2)"
      ]
     },
     "execution_count": 20,
     "metadata": {},
     "output_type": "execute_result"
    }
   ],
   "source": [
    "\n",
    "geometry = solve([a*a + b*b - R*R, a - L*sin(alpha), D - b - L*cos(alpha)], L, a, b)\n",
    "print( geometry[0] )\n",
    "print( geometry[1] )\n",
    "# select the relevant solution (must be less than D):\n",
    "pathLength = geometry[0][0]\n",
    "surfacePointVertical = geometry[0][1]\n",
    "surfacePointHorizontal = geometry[0][2]\n",
    "#print(pathLength, surfacePointVertical, surfacePointHorizontal)\n",
    "pathLength"
   ]
  }
 ],
 "metadata": {
  "kernelspec": {
   "display_name": "Python 3",
   "language": "python",
   "name": "python3"
  },
  "language_info": {
   "codemirror_mode": {
    "name": "ipython",
    "version": 3
   },
   "file_extension": ".py",
   "mimetype": "text/x-python",
   "name": "python",
   "nbconvert_exporter": "python",
   "pygments_lexer": "ipython3",
   "version": "3.12.7"
  }
 },
 "nbformat": 4,
 "nbformat_minor": 2
}
